{
 "cells": [
  {
   "cell_type": "markdown",
   "id": "bd61727a",
   "metadata": {},
   "source": [
    "# My Jupyter Notebook \n",
    "Publicly available on Github\n"
   ]
  },
  {
   "cell_type": "markdown",
   "id": "bed7470f",
   "metadata": {},
   "source": [
    "**MUHAMMAD MUZAMMIL**\n",
    "\n",
    "Petroleum Engineer | Data Scientist"
   ]
  },
  {
   "cell_type": "markdown",
   "id": "da595d2e",
   "metadata": {},
   "source": [
    "*I am interested in data science because I love to understand the relationship of the data with the other data in a pool of many datas and its impact, Also i want to learn how this whole can impact on the actual system of real world*"
   ]
  },
  {
   "cell_type": "markdown",
   "id": "ac23e79a",
   "metadata": {},
   "source": [
    "### The following code test the Gauss Formula"
   ]
  },
  {
   "cell_type": "code",
   "execution_count": 24,
   "id": "c227598d",
   "metadata": {},
   "outputs": [
    {
     "data": {
      "text/plain": [
       "True"
      ]
     },
     "execution_count": 24,
     "metadata": {},
     "output_type": "execute_result"
    }
   ],
   "source": [
    "def gauss (n):\n",
    "    return (n*(n+1))/2\n",
    "gauss(100) == sum(range(101))"
   ]
  },
  {
   "cell_type": "markdown",
   "id": "a41f1672",
   "metadata": {},
   "source": [
    "### Simple Math\n"
   ]
  },
  {
   "cell_type": "code",
   "execution_count": 23,
   "id": "8b9b6a81",
   "metadata": {},
   "outputs": [
    {
     "name": "stdout",
     "output_type": "stream",
     "text": [
      "12\n",
      "8\n",
      "20\n",
      "5.0\n"
     ]
    }
   ],
   "source": [
    "# simple math\n",
    "\n",
    "a = 10\n",
    "b = 2\n",
    "\n",
    "c = a+b\n",
    "d = a-b\n",
    "e = a*b\n",
    "f = a/b\n",
    "\n",
    "print(c)\n",
    "print(d)\n",
    "print(e)\n",
    "print(f)"
   ]
  },
  {
   "cell_type": "markdown",
   "id": "9374b8f8",
   "metadata": {},
   "source": [
    "***\n",
    "\n",
    "My assignment for tools for data science course\n",
    "\n",
    "***\n",
    "\n",
    "*one\n",
    "*two\n",
    "*three\n",
    "*four\n",
    "\n",
    "1. first\n",
    "2. second\n",
    "3. third\n",
    "4. fourth\n",
    "\n",
    "\n",
    "*Want to google something,* <a href=\"https://www.google.com\" target=\"_blank\">click here</a>"
   ]
  },
  {
   "cell_type": "markdown",
   "id": "bce19914",
   "metadata": {},
   "source": [
    "<table>\n",
    "  <tr>\n",
    "    <th>Subjects</th>\n",
    "    <th>Score</th>\n",
    "    <th>Total</th>\n",
    "  </tr>\n",
    "  <tr>\n",
    "    <td>Mathematcis</td>\n",
    "    <td>80</td>\n",
    "    <td>100</td>\n",
    "  </tr>\n",
    "  <tr>\n",
    "    <td>Science</td>\n",
    "    <td>90</td>\n",
    "    <td>100</td>\n",
    "  </tr>\n",
    "</table>"
   ]
  }
 ],
 "metadata": {
  "kernelspec": {
   "display_name": "Python 3 (ipykernel)",
   "language": "python",
   "name": "python3"
  },
  "language_info": {
   "codemirror_mode": {
    "name": "ipython",
    "version": 3
   },
   "file_extension": ".py",
   "mimetype": "text/x-python",
   "name": "python",
   "nbconvert_exporter": "python",
   "pygments_lexer": "ipython3",
   "version": "3.9.7"
  }
 },
 "nbformat": 4,
 "nbformat_minor": 5
}
